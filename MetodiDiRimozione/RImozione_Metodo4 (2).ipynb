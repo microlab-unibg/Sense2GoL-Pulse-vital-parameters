{
  "cells": [
    {
      "cell_type": "code",
      "execution_count": 14,
      "id": "ea50eca7-9b3b-4346-9389-0b813235d189",
      "metadata": {
        "id": "ea50eca7-9b3b-4346-9389-0b813235d189",
        "outputId": "4f8c1784-40d6-4b7a-d67f-d31f19a945cc",
        "colab": {
          "base_uri": "https://localhost:8080/"
        }
      },
      "outputs": [
        {
          "output_type": "stream",
          "name": "stdout",
          "text": [
            "--2024-11-07 19:58:52--  https://raw.githubusercontent.com/microlab-unibg/Sense2Gol-Pulse-vital-Parameters/Caricamento-file-e-collegamento-al-drive/MetodiDiRimozione/Lettura_Dati.py\n",
            "Resolving raw.githubusercontent.com (raw.githubusercontent.com)... 185.199.108.133, 185.199.110.133, 185.199.111.133, ...\n",
            "Connecting to raw.githubusercontent.com (raw.githubusercontent.com)|185.199.108.133|:443... connected.\n",
            "HTTP request sent, awaiting response... 200 OK\n",
            "Length: 2371 (2.3K) [text/plain]\n",
            "Saving to: ‘Lettura_Dati.py’\n",
            "\n",
            "\rLettura_Dati.py       0%[                    ]       0  --.-KB/s               \rLettura_Dati.py     100%[===================>]   2.32K  --.-KB/s    in 0s      \n",
            "\n",
            "2024-11-07 19:58:52 (30.1 MB/s) - ‘Lettura_Dati.py’ saved [2371/2371]\n",
            "\n",
            "--2024-11-07 19:58:52--  https://raw.githubusercontent.com/microlab-unibg/Sense2Gol-Pulse-vital-Parameters/Caricamento-file-e-collegamento-al-drive/MetodiDiRimozione/background_ds.py\n",
            "Resolving raw.githubusercontent.com (raw.githubusercontent.com)... 185.199.109.133, 185.199.111.133, 185.199.110.133, ...\n",
            "Connecting to raw.githubusercontent.com (raw.githubusercontent.com)|185.199.109.133|:443... connected.\n",
            "HTTP request sent, awaiting response... 200 OK\n",
            "Length: 1975 (1.9K) [text/plain]\n",
            "Saving to: ‘background_ds.py’\n",
            "\n",
            "background_ds.py    100%[===================>]   1.93K  --.-KB/s    in 0s      \n",
            "\n",
            "2024-11-07 19:58:52 (24.1 MB/s) - ‘background_ds.py’ saved [1975/1975]\n",
            "\n"
          ]
        },
        {
          "output_type": "stream",
          "name": "stderr",
          "text": [
            "Downloading...\n",
            "From: https://drive.google.com/uc?id=15LSYaKYgg9GrVJgwSE_dBTPDefqShAaD\n",
            "To: /content/dati.txt\n",
            "100%|██████████| 771k/771k [00:00<00:00, 106MB/s]\n"
          ]
        },
        {
          "output_type": "stream",
          "name": "stdout",
          "text": [
            "230\n"
          ]
        },
        {
          "output_type": "stream",
          "name": "stderr",
          "text": [
            "Downloading...\n",
            "From: https://drive.google.com/uc?id=1oF0mh5XYgx06jyDgADqXDVMGyvdEGKwO\n",
            "To: /content/dati.txt\n",
            "100%|██████████| 700k/700k [00:00<00:00, 83.6MB/s]\n"
          ]
        },
        {
          "output_type": "stream",
          "name": "stdout",
          "text": [
            "Media dei massimi valori di ampiezza tra 0 e 1 Hz: 0.47771539918471445\n",
            "BRPM: 14.331461975541433\n",
            "Media dei massimi valori di ampiezza tra 0.66 e 6.66 Hz: 0.5318030423754816\n",
            "BPM: 31.908182542528895\n",
            "File dei risultati e PDF dei grafici generati con successo!\n",
            "Mounted at /content/drive\n",
            "File caricati con successo su Google Drive nel drive condiviso Radar!\n"
          ]
        }
      ],
      "source": [
        "import numpy as np\n",
        "import matplotlib.pyplot as plt\n",
        "from scipy.fft import fft, fftfreq\n",
        "from matplotlib.backends.backend_pdf import PdfPages\n",
        "import os\n",
        "import sys\n",
        "import gdown\n",
        "\n",
        "# Percorso alla tua cartella locale (senza Drive mount)\n",
        "drive_path = './'\n",
        "\n",
        "# Scarica i file necessari da GitHub nel percorso locale\n",
        "!wget -O \"Lettura_Dati.py\" https://raw.githubusercontent.com/microlab-unibg/Sense2Gol-Pulse-vital-Parameters/Caricamento-file-e-collegamento-al-drive/MetodiDiRimozione/Lettura_Dati.py\n",
        "!wget -O \"background_ds.py\" https://raw.githubusercontent.com/microlab-unibg/Sense2Gol-Pulse-vital-Parameters/Caricamento-file-e-collegamento-al-drive/MetodiDiRimozione/background_ds.py\n",
        "\n",
        "# Assicurati che i file siano stati scaricati correttamente\n",
        "assert os.path.exists('Lettura_Dati.py'), \"Lettura_Dati.py non trovato!\"\n",
        "assert os.path.exists('background_ds.py'), \"background_ds.py non trovato!\"\n",
        "\n",
        "# Importa i moduli dal percorso attuale\n",
        "sys.path.insert(0, drive_path)\n",
        "from Lettura_Dati import leggi_file\n",
        "from background_ds import Background_ds\n",
        "\n",
        "# Scarica il file specifico di dati da Google Drive usando gdown\n",
        "file_url = \"https://drive.google.com/uc?id=15LSYaKYgg9GrVJgwSE_dBTPDefqShAaD\"\n",
        "gdown.download(file_url, 'dati.txt', quiet=False)\n",
        "\n",
        "# Leggi il file di input\n",
        "file_path = \"dati.txt\"\n",
        "frames = leggi_file(file_path)\n",
        "frames_array = np.array(frames)\n",
        "\n",
        "# Parametri\n",
        "a = 10  # fattore di downsampling\n",
        "Nm = 9  # numero di frame per blocco\n",
        "T = 1 * Nm\n",
        "N = (256 * Nm) // a\n",
        "print(N)\n",
        "\n",
        "# Ottieni il background come singolo array FFT da Background_ds\n",
        "background = Background_ds(Nm, a)[:N//2]  # Prendi solo le frequenze positive della FFT\n",
        "\n",
        "# Numero totale di finestre\n",
        "total_windows = len(frames_array) // Nm\n",
        "\n",
        "block_idx = 0\n",
        "intervallo_tempo = 1\n",
        "\n",
        "max_amplitudes_BRPM = []  # lista per memorizzare i respiri\n",
        "max_amplitudes_BPM = []  # lista per memorizzare il battito\n",
        "\n",
        "# Apri un PdfPages per salvare tutti i plot in un unico PDF\n",
        "pdf_filename = \"grafici_output.pdf\"\n",
        "with PdfPages(pdf_filename) as pdf:\n",
        "    # Ciclo per eseguire il downsampling e il calcolo\n",
        "    while intervallo_tempo <= total_windows:\n",
        "        start_idx = block_idx\n",
        "        end_idx = block_idx + Nm\n",
        "\n",
        "        block_frames = frames_array[start_idx:end_idx]\n",
        "        block_frames = block_frames.flatten()\n",
        "        block_frames = block_frames[::a]\n",
        "        combined_fft = np.fft.fft(block_frames, n=N)\n",
        "        combined_fft_no_background = combined_fft[:N//2] - background\n",
        "        xf = fftfreq(N, T/N)[:N//2]\n",
        "\n",
        "        fft_amplitudes_selected = combined_fft_no_background[(xf > 0) & (xf <= 1)]\n",
        "        max_amplitudes_BRPM_index = np.argmax(fft_amplitudes_selected)\n",
        "        max_amplitudes_BRPM.append(np.abs(fft_amplitudes_selected[max_amplitudes_BRPM_index]))\n",
        "\n",
        "        fft_amplitudes_selected2 = combined_fft_no_background[(xf > 0.66) & (xf <= 6.66)]\n",
        "        max_amplitudes_BPM_index = np.argmax(fft_amplitudes_selected2)\n",
        "        max_amplitudes_BPM.append(np.abs(fft_amplitudes_selected2[max_amplitudes_BPM_index]))\n",
        "\n",
        "        # Crea il grafico e aggiungilo al PDF\n",
        "        plt.figure(figsize=(8, 4))\n",
        "        plt.plot(xf, np.abs(combined_fft_no_background))\n",
        "        plt.title(f'Intervallo di tempo {intervallo_tempo} ({start_idx} - {end_idx})', fontsize=16)\n",
        "        plt.xlabel('Frequenza [Hz]', fontsize=16)\n",
        "        plt.ylabel('Ampiezza [au]', fontsize=16)\n",
        "        plt.grid(True)\n",
        "\n",
        "        # Salva la figura corrente nel PDF\n",
        "        pdf.savefig()\n",
        "        plt.close()\n",
        "\n",
        "        block_idx += Nm\n",
        "        intervallo_tempo += 1\n",
        "\n",
        "# Calcola la media dei massimi valori di ampiezza\n",
        "BRPM = np.mean(max_amplitudes_BRPM)\n",
        "BPM = np.mean(max_amplitudes_BPM)\n",
        "print(\"Media dei massimi valori di ampiezza tra 0 e 1 Hz:\", BRPM)\n",
        "print(\"BRPM:\", (BRPM / 2) * 60)\n",
        "print(\"Media dei massimi valori di ampiezza tra 0.66 e 6.66 Hz:\", BPM)\n",
        "print(\"BPM:\", BPM * 60)\n",
        "\n",
        "# Salva i risultati in un file di testo\n",
        "output_filename = \"risultati.txt\"\n",
        "with open(output_filename, \"w\") as f:\n",
        "    f.write(f\"Media dei massimi valori di ampiezza tra 0 e 1 Hz: {BRPM}\\n\")\n",
        "    f.write(f\"BRPM: {(BRPM / 2) * 60}\\n\")\n",
        "    f.write(f\"Media dei massimi valori di ampiezza tra 0.66 e 6.66 Hz: {BPM}\\n\")\n",
        "    f.write(f\"BPM: {BPM * 60}\\n\")\n",
        "\n",
        "print(\"File dei risultati e PDF dei grafici generati con successo!\")\n",
        "\n",
        "import shutil\n",
        "import os\n",
        "from google.colab import drive\n",
        "drive.mount('/content/drive', force_remount=True)\n",
        "\n",
        "# Imposta il percorso del drive condiviso e delle sottocartelle\n",
        "percorso_su_drive = '/content/drive/Shareddrives/Radar/Vital parameter monitoring/Sense2GoL_pulse_data/FileOutput/'\n",
        "\n",
        "# Crea la directory se non esiste\n",
        "os.makedirs(percorso_su_drive, exist_ok=True)\n",
        "\n",
        "# Sposta i file su Google Drive\n",
        "shutil.move(\"grafici_output.pdf\", os.path.join(percorso_su_drive, \"grafici_output.pdf\"))\n",
        "shutil.move(\"risultati.txt\", os.path.join(percorso_su_drive, \"risultati.txt\"))\n",
        "\n",
        "print(\"File caricati con successo su Google Drive nel drive condiviso Radar!\")\n",
        "\n"
      ]
    },
    {
      "cell_type": "code",
      "execution_count": 8,
      "id": "d67e0e0c-d180-4936-8f19-ad367db4a562",
      "metadata": {
        "id": "d67e0e0c-d180-4936-8f19-ad367db4a562",
        "outputId": "c50e11ad-2681-4b4f-a241-a61806cf6431",
        "colab": {
          "base_uri": "https://localhost:8080/",
          "height": 17
        }
      },
      "outputs": [
        {
          "output_type": "display_data",
          "data": {
            "text/plain": [
              "<IPython.core.display.Javascript object>"
            ],
            "application/javascript": [
              "\n",
              "    async function download(id, filename, size) {\n",
              "      if (!google.colab.kernel.accessAllowed) {\n",
              "        return;\n",
              "      }\n",
              "      const div = document.createElement('div');\n",
              "      const label = document.createElement('label');\n",
              "      label.textContent = `Downloading \"${filename}\": `;\n",
              "      div.appendChild(label);\n",
              "      const progress = document.createElement('progress');\n",
              "      progress.max = size;\n",
              "      div.appendChild(progress);\n",
              "      document.body.appendChild(div);\n",
              "\n",
              "      const buffers = [];\n",
              "      let downloaded = 0;\n",
              "\n",
              "      const channel = await google.colab.kernel.comms.open(id);\n",
              "      // Send a message to notify the kernel that we're ready.\n",
              "      channel.send({})\n",
              "\n",
              "      for await (const message of channel.messages) {\n",
              "        // Send a message to notify the kernel that we're ready.\n",
              "        channel.send({})\n",
              "        if (message.buffers) {\n",
              "          for (const buffer of message.buffers) {\n",
              "            buffers.push(buffer);\n",
              "            downloaded += buffer.byteLength;\n",
              "            progress.value = downloaded;\n",
              "          }\n",
              "        }\n",
              "      }\n",
              "      const blob = new Blob(buffers, {type: 'application/binary'});\n",
              "      const a = document.createElement('a');\n",
              "      a.href = window.URL.createObjectURL(blob);\n",
              "      a.download = filename;\n",
              "      div.appendChild(a);\n",
              "      a.click();\n",
              "      div.remove();\n",
              "    }\n",
              "  "
            ]
          },
          "metadata": {}
        },
        {
          "output_type": "display_data",
          "data": {
            "text/plain": [
              "<IPython.core.display.Javascript object>"
            ],
            "application/javascript": [
              "download(\"download_8a3ceccc-b558-4b62-9e10-ab761c1a043d\", \"grafici_output.pdf\", 30258)"
            ]
          },
          "metadata": {}
        },
        {
          "output_type": "display_data",
          "data": {
            "text/plain": [
              "<IPython.core.display.Javascript object>"
            ],
            "application/javascript": [
              "\n",
              "    async function download(id, filename, size) {\n",
              "      if (!google.colab.kernel.accessAllowed) {\n",
              "        return;\n",
              "      }\n",
              "      const div = document.createElement('div');\n",
              "      const label = document.createElement('label');\n",
              "      label.textContent = `Downloading \"${filename}\": `;\n",
              "      div.appendChild(label);\n",
              "      const progress = document.createElement('progress');\n",
              "      progress.max = size;\n",
              "      div.appendChild(progress);\n",
              "      document.body.appendChild(div);\n",
              "\n",
              "      const buffers = [];\n",
              "      let downloaded = 0;\n",
              "\n",
              "      const channel = await google.colab.kernel.comms.open(id);\n",
              "      // Send a message to notify the kernel that we're ready.\n",
              "      channel.send({})\n",
              "\n",
              "      for await (const message of channel.messages) {\n",
              "        // Send a message to notify the kernel that we're ready.\n",
              "        channel.send({})\n",
              "        if (message.buffers) {\n",
              "          for (const buffer of message.buffers) {\n",
              "            buffers.push(buffer);\n",
              "            downloaded += buffer.byteLength;\n",
              "            progress.value = downloaded;\n",
              "          }\n",
              "        }\n",
              "      }\n",
              "      const blob = new Blob(buffers, {type: 'application/binary'});\n",
              "      const a = document.createElement('a');\n",
              "      a.href = window.URL.createObjectURL(blob);\n",
              "      a.download = filename;\n",
              "      div.appendChild(a);\n",
              "      a.click();\n",
              "      div.remove();\n",
              "    }\n",
              "  "
            ]
          },
          "metadata": {}
        },
        {
          "output_type": "display_data",
          "data": {
            "text/plain": [
              "<IPython.core.display.Javascript object>"
            ],
            "application/javascript": [
              "download(\"download_7c936068-9751-4a01-99e3-eeda54b2ae08\", \"risultati.txt\", 196)"
            ]
          },
          "metadata": {}
        }
      ],
      "source": [
        "from google.colab import files\n",
        "files.download(\"grafici_output.pdf\")\n",
        "files.download(\"risultati.txt\")\n"
      ]
    },
    {
      "cell_type": "code",
      "execution_count": null,
      "id": "87b4247e-83c4-4c46-8f22-06097177f8aa",
      "metadata": {
        "id": "87b4247e-83c4-4c46-8f22-06097177f8aa"
      },
      "outputs": [],
      "source": []
    }
  ],
  "metadata": {
    "kernelspec": {
      "display_name": "Python 3 (ipykernel)",
      "language": "python",
      "name": "python3"
    },
    "language_info": {
      "codemirror_mode": {
        "name": "ipython",
        "version": 3
      },
      "file_extension": ".py",
      "mimetype": "text/x-python",
      "name": "python",
      "nbconvert_exporter": "python",
      "pygments_lexer": "ipython3",
      "version": "3.12.2"
    },
    "colab": {
      "provenance": []
    }
  },
  "nbformat": 4,
  "nbformat_minor": 5
}