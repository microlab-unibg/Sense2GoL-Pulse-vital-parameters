{
  "cells": [
    {
      "cell_type": "code",
      "execution_count": 1,
      "id": "9e30157c-80a7-45af-8968-0b3873277b9d",
      "metadata": {
        "id": "9e30157c-80a7-45af-8968-0b3873277b9d",
        "outputId": "42003dc9-97d6-41c5-d7c8-6746ef0ef185",
        "colab": {
          "base_uri": "https://localhost:8080/"
        }
      },
      "outputs": [
        {
          "output_type": "stream",
          "name": "stdout",
          "text": [
            "--2024-11-09 10:14:17--  https://raw.githubusercontent.com/microlab-unibg/Sense2Gol-Pulse-vital-Parameters/Caricamento-file-e-collegamento-al-drive/MetodiDiRimozione/Lettura_Dati.py\n",
            "Resolving raw.githubusercontent.com (raw.githubusercontent.com)... 185.199.108.133, 185.199.109.133, 185.199.110.133, ...\n",
            "Connecting to raw.githubusercontent.com (raw.githubusercontent.com)|185.199.108.133|:443... connected.\n",
            "HTTP request sent, awaiting response... 200 OK\n",
            "Length: 2371 (2.3K) [text/plain]\n",
            "Saving to: ‘Lettura_Dati.py’\n",
            "\n",
            "Lettura_Dati.py     100%[===================>]   2.32K  --.-KB/s    in 0s      \n",
            "\n",
            "2024-11-09 10:14:17 (29.8 MB/s) - ‘Lettura_Dati.py’ saved [2371/2371]\n",
            "\n",
            "--2024-11-09 10:14:17--  https://raw.githubusercontent.com/microlab-unibg/Sense2Gol-Pulse-vital-Parameters/Caricamento-file-e-collegamento-al-drive/MetodiDiRimozione/background_singoloframe.py\n",
            "Resolving raw.githubusercontent.com (raw.githubusercontent.com)... 185.199.108.133, 185.199.109.133, 185.199.110.133, ...\n",
            "Connecting to raw.githubusercontent.com (raw.githubusercontent.com)|185.199.108.133|:443... connected.\n",
            "HTTP request sent, awaiting response... 200 OK\n",
            "Length: 856 [text/plain]\n",
            "Saving to: ‘background_singoloframe.py’\n",
            "\n",
            "background_singolof 100%[===================>]     856  --.-KB/s    in 0s      \n",
            "\n",
            "2024-11-09 10:14:17 (48.9 MB/s) - ‘background_singoloframe.py’ saved [856/856]\n",
            "\n"
          ]
        },
        {
          "output_type": "stream",
          "name": "stderr",
          "text": [
            "WARNING:root:pydrive is deprecated and no longer maintained. We recommend that you migrate your projects to pydrive2, the maintained fork of pydrive\n",
            "Downloading...\n",
            "From: https://drive.google.com/uc?id=1xIY_GuS68ld8mQzPV4w1YQaiYO4vqScq\n",
            "To: /content/dati.txt\n",
            "100%|██████████| 772k/772k [00:00<00:00, 24.0MB/s]\n"
          ]
        },
        {
          "output_type": "stream",
          "name": "stdout",
          "text": [
            "Dimensione background: 255\n"
          ]
        },
        {
          "output_type": "stream",
          "name": "stderr",
          "text": [
            "Downloading...\n",
            "From: https://drive.google.com/uc?id=15LSYaKYgg9GrVJgwSE_dBTPDefqShAaD\n",
            "To: /content/dati.txt\n",
            "100%|██████████| 771k/771k [00:00<00:00, 79.3MB/s]\n"
          ]
        },
        {
          "output_type": "stream",
          "name": "stdout",
          "text": [
            "Mounted at /content/drive\n",
            "File caricati con successo su Google Drive nel drive condiviso Radar!\n"
          ]
        }
      ],
      "source": [
        "import numpy as np\n",
        "import matplotlib.pyplot as plt\n",
        "from scipy.fft import fft, fftfreq\n",
        "import gdown\n",
        "import os\n",
        "from matplotlib.backends.backend_pdf import PdfPages\n",
        "import shutil\n",
        "from google.colab import drive\n",
        "\n",
        "# Percorso alla cartella locale\n",
        "drive_path = './'\n",
        "\n",
        "# Scarico i file necessari da GitHub nel percorso locale\n",
        "!wget -O \"Lettura_Dati.py\" https://raw.githubusercontent.com/microlab-unibg/Sense2Gol-Pulse-vital-Parameters/Caricamento-file-e-collegamento-al-drive/MetodiDiRimozione/Lettura_Dati.py\n",
        "!wget -O \"background_singoloframe.py\" https://raw.githubusercontent.com/microlab-unibg/Sense2Gol-Pulse-vital-Parameters/Caricamento-file-e-collegamento-al-drive/MetodiDiRimozione/background_singoloframe.py\n",
        "\n",
        "# controllo che i file siano stati scaricati correttamente\n",
        "assert os.path.exists('Lettura_Dati.py'), \"Lettura_Dati.py non trovato!\"\n",
        "assert os.path.exists('background_singoloframe.py'), \"background_singoloframe.py non trovato!\"\n",
        "\n",
        "# importo i moduli dal percorso attuale\n",
        "import sys\n",
        "sys.path.insert(0, drive_path)\n",
        "from background_singoloframe import Background_unFrame\n",
        "from Lettura_Dati import leggi_file\n",
        "\n",
        "# carico il background di un frame\n",
        "bg = Background_unFrame()\n",
        "background = np.array(bg)\n",
        "print(\"Dimensione background:\", background.size)\n",
        "\n",
        "# Link con l'ID del file su Google Drive\n",
        "file_url = \"https://drive.google.com/uc?id=15LSYaKYgg9GrVJgwSE_dBTPDefqShAaD\"\n",
        "# scarico il file da Google Drive\n",
        "gdown.download(file_url, 'dati.txt', quiet=False)\n",
        "\n",
        "# lettura file\n",
        "file_path = \"dati.txt\"\n",
        "frames = leggi_file(file_path)\n",
        "frames_array = np.array(frames)\n",
        "\n",
        "# calcolo lo spettrogramma\n",
        "spectrogram = np.zeros((len(frames_array), 256 // 2), dtype=float)\n",
        "for i, frame in enumerate(frames_array):\n",
        "    yf_high = fft(frame[0:256], axis=0)\n",
        "    spectrogram[i, :] = np.abs(yf_high[:256 // 2])\n",
        "\n",
        "# parametri di tempo e frequenza\n",
        "T_frame = 1\n",
        "tempo_totale = len(frames_array) * T_frame\n",
        "xf = fftfreq(256, T_frame / 256)[:256 // 2]\n",
        "t = np.linspace(0, tempo_totale, len(frames))\n",
        "\n",
        "# viene rimosso il background\n",
        "spectrogram_without_baseline = spectrogram - background[:256 // 2]\n",
        "spectrogram_without_baseline_real = np.real(spectrogram_without_baseline)\n",
        "\n",
        "# seleziono le frequenze da 0 a 30 Hz\n",
        "freq_min = 0\n",
        "freq_max = 30\n",
        "idx_freq_min = np.argmax(xf >= freq_min)\n",
        "idx_freq_max = np.argmax(xf >= freq_max)\n",
        "amplitudes_selected = spectrogram_without_baseline_real[:, idx_freq_min:idx_freq_max]\n",
        "mean_ampl = np.mean(amplitudes_selected, axis=0)\n",
        "\n",
        "# creo un PDF per salvare i grafici\n",
        "pdf_filename = \"grafici_outputM1.pdf\"\n",
        "with PdfPages(pdf_filename) as pdf:\n",
        "    # Primo grafico: Media su N Dati con Frequenze (0-30 Hz)\n",
        "    plt.figure(figsize=(10, 6))\n",
        "    plt.plot(xf[idx_freq_min:idx_freq_max], mean_ampl)\n",
        "    plt.xlabel('Frequenza [Hz]')\n",
        "    plt.ylabel('Ampiezza')\n",
        "    plt.title('Media su N Dati con Frequenze (0-30 Hz)')\n",
        "    plt.grid(True)\n",
        "    pdf.savefig()\n",
        "    plt.close()\n",
        "\n",
        "    # Secondo grafico: Spettrogramma in 2D\n",
        "    log_spectrogram = np.log10(np.abs(spectrogram_without_baseline_real) + 1e-10)\n",
        "    plt.figure(figsize=(12, 6))\n",
        "    plt.imshow(log_spectrogram[:, idx_freq_min:idx_freq_max].T, aspect='auto',\n",
        "               extent=[0, tempo_totale, freq_min, freq_max], origin='lower')\n",
        "    plt.colorbar(label='Log(Ampiezza [au])')\n",
        "    plt.xlabel('Tempo [s]')\n",
        "    plt.ylabel('Frequenza [Hz]')\n",
        "    plt.title('Spettrogramma (Frequenze da 0 a 30 Hz)')\n",
        "    pdf.savefig()\n",
        "    plt.close()\n",
        "\n",
        "# carico il PDF su google drive\n",
        "drive.mount('/content/drive', force_remount=True)\n",
        "percorso_su_drive = '/content/drive/Shareddrives/Radar/Vital parameter monitoring/Sense2GoL_pulse_data/FileOutput/'\n",
        "os.makedirs(percorso_su_drive, exist_ok=True)\n",
        "shutil.move(pdf_filename, os.path.join(percorso_su_drive, pdf_filename))\n",
        "print(\"File caricati con successo su Google Drive nel drive condiviso Radar!\")\n"
      ]
    },
    {
      "cell_type": "code",
      "execution_count": null,
      "id": "1d24f586-3ba2-4ca2-9441-ba365cd8c09e",
      "metadata": {
        "id": "1d24f586-3ba2-4ca2-9441-ba365cd8c09e"
      },
      "outputs": [],
      "source": []
    }
  ],
  "metadata": {
    "kernelspec": {
      "display_name": "Python 3 (ipykernel)",
      "language": "python",
      "name": "python3"
    },
    "language_info": {
      "codemirror_mode": {
        "name": "ipython",
        "version": 3
      },
      "file_extension": ".py",
      "mimetype": "text/x-python",
      "name": "python",
      "nbconvert_exporter": "python",
      "pygments_lexer": "ipython3",
      "version": "3.12.2"
    },
    "colab": {
      "provenance": []
    }
  },
  "nbformat": 4,
  "nbformat_minor": 5
}