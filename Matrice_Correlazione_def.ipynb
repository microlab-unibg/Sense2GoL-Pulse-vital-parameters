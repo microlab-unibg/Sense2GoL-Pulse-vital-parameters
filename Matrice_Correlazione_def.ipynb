{
  "cells": [
    {
      "cell_type": "code",
      "execution_count": 1,
      "id": "6b4de6e0-69f0-45bc-9ba3-a302d043709b",
      "metadata": {
        "id": "6b4de6e0-69f0-45bc-9ba3-a302d043709b",
        "outputId": "c58c0553-5b93-4b28-da2b-4c45332c14a3",
        "colab": {
          "base_uri": "https://localhost:8080/"
        }
      },
      "outputs": [
        {
          "output_type": "stream",
          "name": "stderr",
          "text": [
            "Downloading...\n",
            "From: https://drive.google.com/uc?id=1FYPgcfURJmQOFjB9DY16IOgQJ_r29OZH\n",
            "To: /content/dati.txt\n",
            "100%|██████████| 722k/722k [00:00<00:00, 15.5MB/s]\n"
          ]
        },
        {
          "output_type": "stream",
          "name": "stdout",
          "text": [
            "Dimensioni dell'array numpy: (60, 1024)\n",
            "255\n",
            "Mounted at /content/drive\n",
            "File PDF caricato con successo su Google Drive nel drive condiviso Radar!\n"
          ]
        }
      ],
      "source": [
        "import numpy as np\n",
        "import pandas as pd\n",
        "import matplotlib.pyplot as plt\n",
        "import os\n",
        "import gdown\n",
        "from scipy.stats import pearsonr\n",
        "import shutil\n",
        "from google.colab import drive\n",
        "from matplotlib.backends.backend_pdf import PdfPages\n",
        "from pandas.plotting import scatter_matrix\n",
        "\n",
        "# Scarica il file di dati da Google Drive\n",
        "file_url = \"https://drive.google.com/uc?id=1FYPgcfURJmQOFjB9DY16IOgQJ_r29OZH\"\n",
        "gdown.download(file_url, 'dati.txt', quiet=False)\n",
        "\n",
        "# Leggi il file di input\n",
        "file_path = \"dati.txt\"\n",
        "with open(file_path, \"r\") as file:\n",
        "    # Inizializza una lista vuota per memorizzare i valori dei frame\n",
        "    frames = []\n",
        "    frame_values = []\n",
        "    line_count = 0\n",
        "\n",
        "    # Legge ogni riga del file\n",
        "    for line in file:\n",
        "        line_count += 1\n",
        "        # Ignora le righe di commento e l'intestazione\n",
        "        if line.startswith('#') or line_count <= 11:\n",
        "            continue\n",
        "        line = line.strip()\n",
        "        if line:\n",
        "            frame_values.append(float(line))\n",
        "            if len(frame_values) == 1024:\n",
        "                frames.append(frame_values)\n",
        "                frame_values = []\n",
        "\n",
        "# Converte la lista dei frame in un array numpy\n",
        "frames_array = np.array(frames)\n",
        "\n",
        "# Stampa la forma dell'array numpy per verificarne le dimensioni\n",
        "print(\"Dimensioni dell'array numpy:\", frames_array.shape)\n",
        "\n",
        "# Estrae i dati relativi al primo frame dall'array numpy\n",
        "first_frame_data = frames_array[0]\n",
        "\n",
        "# Crea un DataFrame pandas con i dati estratti\n",
        "valori_df = pd.DataFrame({\n",
        "    \"High_I\": first_frame_data[0:255].flatten(),\n",
        "    \"High_Q\": first_frame_data[256:511].flatten(),\n",
        "    \"Low_I\": first_frame_data[512:767].flatten(),\n",
        "    \"Low_Q\": first_frame_data[768:1023].flatten()\n",
        "})\n",
        "\n",
        "# Stampa il DataFrame\n",
        "print(len(valori_df))\n",
        "\n",
        "# Calcola la matrice di correlazione\n",
        "correlation_matrix = valori_df.corr()\n",
        "\n",
        "# Crea il PDF\n",
        "pdf_filename = \"output_Matrice_di_Correlazione.pdf\"\n",
        "with PdfPages(pdf_filename) as pdf:\n",
        "    # Plotta la matrice di correlazione\n",
        "    plt.figure(figsize=(8, 6))\n",
        "    plt.imshow(correlation_matrix, cmap='coolwarm', interpolation='nearest')\n",
        "    plt.colorbar()\n",
        "\n",
        "    # Aggiungi i numeri sulla matrice di correlazione\n",
        "    for i in range(len(correlation_matrix)):\n",
        "        for j in range(len(correlation_matrix)):\n",
        "            plt.text(j, i, f\"{correlation_matrix.iloc[i, j]:.2f}\", ha='center', va='center', color='black')\n",
        "\n",
        "    plt.title('Matrice di Correlazione')\n",
        "    plt.xticks(range(len(correlation_matrix.columns)), correlation_matrix.columns, rotation=45)\n",
        "    plt.yticks(range(len(correlation_matrix.columns)), correlation_matrix.columns)\n",
        "    pdf.savefig()  # Salva la matrice di correlazione nel PDF\n",
        "    plt.close()\n",
        "\n",
        "    # Crea lo scatter matrix e salva nel PDF\n",
        "    scatter_matrix(valori_df, figsize=(10, 8))\n",
        "    plt.suptitle('Scatter Matrix', fontsize=16)\n",
        "    pdf.savefig()  # Salva lo scatter matrix nel PDF\n",
        "    plt.close()\n",
        "\n",
        "# Monta Google Drive\n",
        "drive.mount('/content/drive', force_remount=True)\n",
        "\n",
        "# Percorso di destinazione nel Drive\n",
        "percorso_su_drive = '/content/drive/Shareddrives/Radar/Vital parameter monitoring/Sense2GoL_pulse_data/FileOutput/AltriCodici/'\n",
        "os.makedirs(percorso_su_drive, exist_ok=True)\n",
        "shutil.move(pdf_filename, os.path.join(percorso_su_drive, pdf_filename))\n",
        "\n",
        "# Conferma del caricamento\n",
        "print(\"File PDF caricato con successo su Google Drive nel drive condiviso Radar!\")\n"
      ]
    },
    {
      "cell_type": "code",
      "execution_count": null,
      "id": "2e40a947-2441-4b8b-b65c-8c6503e244f5",
      "metadata": {
        "id": "2e40a947-2441-4b8b-b65c-8c6503e244f5"
      },
      "outputs": [],
      "source": []
    }
  ],
  "metadata": {
    "kernelspec": {
      "display_name": "Python 3 (ipykernel)",
      "language": "python",
      "name": "python3"
    },
    "language_info": {
      "codemirror_mode": {
        "name": "ipython",
        "version": 3
      },
      "file_extension": ".py",
      "mimetype": "text/x-python",
      "name": "python",
      "nbconvert_exporter": "python",
      "pygments_lexer": "ipython3",
      "version": "3.12.2"
    },
    "colab": {
      "provenance": []
    }
  },
  "nbformat": 4,
  "nbformat_minor": 5
}